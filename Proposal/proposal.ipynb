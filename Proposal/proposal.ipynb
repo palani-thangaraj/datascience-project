{
 "cells": [
  {
   "cell_type": "markdown",
   "metadata": {},
   "source": [
    "## <center>2019 Data Science Project Proposal</center>\n",
    "# <center>NBA Player Value</center>"
   ]
  },
  {
   "cell_type": "markdown",
   "metadata": {},
   "source": [
    "__Palani Thangaraj__ - u0913877 - palani.marc@gmail.com <br>\n",
    "__Thomas Pembroke__ - u0982340 - thomaspembroke20@gmail.com <br>"
   ]
  },
  {
   "cell_type": "markdown",
   "metadata": {},
   "source": [
    "***\n",
    "### Background and Motivation\n",
    "Growing up both of us were very large sports fans. We played a variety of sports growing up but our times as student athletes came to an end when we entered college. On weekends and nights where we do not have much going on, our go to is to turn on whatever sports are playing on T.V. We spend a lot of time talking about different players, teams, and statistics that it made sense to apply some of the things weve learned in this class to what we already love talking about and discussing. We orignally wanted to do something regarding football and specifically the NFL draft. However, we found that it may be more difficult to find interesting information and correlations regarding players due to football being the sport it is, and there being so many different positions and aspects to the game. Through a lttle bit of looking around and research we determined that there is a lot more readily accessible data for the NBA. Basketball, relatively speaking, is a more simple game then football when it comes to statistics. For example, it is would be easier to measure a player's contributions to a team based on relative stats, points, rebounds, assists etc. Our hope with this project is that we can find some interesting information about players and teams that is different from the stuff we get told on T.V. and in newspapers. Specifically we would like to obtain some sort of model to value all players and how they contribute to a winning team. Being huge jazz fans we know the jazz will not likely ever be able to aquire and pay over $40 mil  to players like lebron or steph curry, but were hoping that after this project and data analysis we will know things like whether it was a good or bad decision to not trade for Mike Conley or how much the Jazz should be willing to pay Donovan Mitchell after his rookie contract expires."
   ]
  },
  {
   "cell_type": "markdown",
   "metadata": {},
   "source": [
    "***\n",
    "### Project Objectives\n",
    "The primary question that this project will address is: Who are the most under/over valued players in the NBA. In order to answer this question, we want to first analyze which statistics are the best indicators of a successful team (i.e. steals/game, 3pt %, blocks, etc.).  We will then use these variables to determine which players should be the highest valued. Second, we will determine what are the most signficant factors in a players contract size (i.e. pts/game, age, height, etc.). Upon creating a model to determine contract size, we will predict what each players contract size should be. Finally, we will compare the two data sets to see if players are correctly valued. <br>\n",
    "<br>\n",
    "Through this project we hope to learn if the valuing system in the NBA is true to player performance, or if it is swayed by \"flashy\", \"popular\" players. The outcome of this could potentially benefit smaller market teams by revealing the best, most affordable players.\n",
    "<br>\n",
    "<center>\n",
    "<img src=\"giannis.png\">\n",
    "Giannis Antetokounmpo - P F -\\$25M/yr - 27 PTS, 12.6 RB, 5.9 AST, 33.1 MPG\n",
    "<img src=\"siakam.png\">\n",
    "Pascal Siakam - PF - \\$1.6M/yr - 16.3 PTS, 7 RB, 2.9 AST, 31.6 MPG\n",
    "</center>"
   ]
  },
  {
   "cell_type": "markdown",
   "metadata": {},
   "source": [
    "***\n",
    "### Data\n",
    "Fortunately there are many great resources available for basketball statistics. Among the top sources are ESPN.com, NBA.com, and basketball-reference.com. All of these sites provide great individual and team metrics and are organized in a manner permissible for simple webscraping.<br>\n",
    "<br>\n",
    "Links:<br>\n",
    "http://www.espn.com/nba/statistics<br>\n",
    "https://stats.nba.com/<br>\n",
    "https://www.basketball-reference.com/\n"
   ]
  },
  {
   "cell_type": "markdown",
   "metadata": {},
   "source": [
    "***\n",
    "### Ethical Considerations\n",
    "When web scraping one must always consider the sensitivity of the data and ethics of obtaining it. While the NBA's data could be seen as proprietary, because it is provided free of charge on their website, there is no real ethical implication in scraping the data.<br>"
   ]
  },
  {
   "cell_type": "markdown",
   "metadata": {},
   "source": [
    "***\n",
    "\n",
    "### Data Processing\n",
    "Fortunately, most of the data sources that we will be pulling from display their information in organized fashions.  We expect that the bulk of the data processing that we will need to do will be converting data types for player and team statistics (i.e. pts/game, +/-, steals, ft %, record, etc.). However, we expect that there will require some data cleanup for the discrepencies on how data is presented across the multiple websites (i.e. player draft position, player position, etc.)<br>\n",
    "<br>\n",
    "We will be implementing the BeautifulSoup Python Library for computationally extracting data from the html documents due to its easse of navigating in the DOM and retrieving the needed data elements.  Once the data is obtained, we will use the Pandas library to process the data and import it to a csv file.  "
   ]
  },
  {
   "cell_type": "markdown",
   "metadata": {},
   "source": [
    "***\n",
    "### Exploratory Analysis\n",
    "In order to gain better insight as to what our data is depicting. We will use various plotting techniques to look at how different data sets may be related to each other. Once the data for different teams and players are obtained, it would be very useful to plot some of the different data that we think may be related. For example, we would use different scatter plots to maybe determine how different player stats contribute to how much players get paid; i.e. points and rebounds versus contract for a year. We will also likely do something analyzing where things happen on a court. In order to determine players value we will have to look at things that do not necissarily show up on the stats sheets like age, influence, and marketabillity. These data sets will then be used to create some sort of model that will classify whether certain players are over paid and overvalued, and those that are underpaid and under valued that could potentially be aquired and have a great impact on a team. These can be visualized using various plots which plots players pay against their actual value and then plotting that against a line/model of what a player should be paid based on their value."
   ]
  },
  {
   "cell_type": "markdown",
   "metadata": {},
   "source": [
    "***\n",
    "### Analysis Methodology\n",
    "Players value will be based on in game stats as well as team performance with them. In order to determine which stats are most significant to a players value we will perform various regression analysis that weighs things like points, field goal percentage, rebounds plus/minus etc. against team wins, contract size and minutes etc. After much trial we will hopefully have good models to determine a player's value to a team we will be able to then create some sort of classifier/visual representation that determines whether players are over/under paid. From the model and the classifier we will then be able to determine which players would be best to aquire for certain prices. "
   ]
  },
  {
   "cell_type": "markdown",
   "metadata": {},
   "source": [
    "***\n",
    "### Project Schedule\n"
   ]
  },
  {
   "cell_type": "markdown",
   "metadata": {},
   "source": [
    "Proposal/Planning - 1 week (Feb 24 - March 3) <br>\n",
    "Data Aquistion/Scraping - 1.5 weeks (March 3 - March 17)<br>\n",
    "Data Cleaning and Exploring - 1.5 weeks (March 17 - March 27)<br>\n",
    "Preliminary Model Formulation - 2 weeks (March 27 - April 10)<br>\n",
    "Model Refinement and Visualization - 1.5 weeks (April 10 - April 17)<br>\n",
    "Final Models and Presentation - 0.5 weeks (April 17 - April 21) <br>"
   ]
  },
  {
   "cell_type": "code",
   "execution_count": null,
   "metadata": {},
   "outputs": [],
   "source": []
  }
 ],
 "metadata": {
  "kernelspec": {
   "display_name": "Python 3",
   "language": "python",
   "name": "python3"
  },
  "language_info": {
   "codemirror_mode": {
    "name": "ipython",
    "version": 3
   },
   "file_extension": ".py",
   "mimetype": "text/x-python",
   "name": "python",
   "nbconvert_exporter": "python",
   "pygments_lexer": "ipython3",
   "version": "3.6.8"
  }
 },
 "nbformat": 4,
 "nbformat_minor": 2
}
